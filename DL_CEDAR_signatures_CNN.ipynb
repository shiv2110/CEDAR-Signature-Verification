{
  "nbformat": 4,
  "nbformat_minor": 0,
  "metadata": {
    "colab": {
      "provenance": [],
      "toc_visible": true
    },
    "kernelspec": {
      "name": "python3",
      "display_name": "Python 3"
    },
    "language_info": {
      "name": "python"
    },
    "gpuClass": "standard",
    "accelerator": "GPU"
  },
  "cells": [
    {
      "cell_type": "code",
      "execution_count": null,
      "metadata": {
        "colab": {
          "base_uri": "https://localhost:8080/"
        },
        "id": "qFLD2PjRMhi8",
        "outputId": "c885e475-57a7-4753-c310-ecbce288e6a3"
      },
      "outputs": [
        {
          "output_type": "stream",
          "name": "stdout",
          "text": [
            "Mounted at /content/drive\n"
          ]
        }
      ],
      "source": [
        "from google.colab import drive\n",
        "drive.mount('/content/drive')"
      ]
    },
    {
      "cell_type": "code",
      "source": [
        "path = '/content/drive/MyDrive/CEDAR/preprocessed_signatures'\n",
        "size = (220, 155)"
      ],
      "metadata": {
        "id": "jLtGLHFoNDtG"
      },
      "execution_count": null,
      "outputs": []
    },
    {
      "cell_type": "code",
      "source": [
        "EPOCHS = 20\n",
        "BS = 16"
      ],
      "metadata": {
        "id": "0FdSOb9AVfeG"
      },
      "execution_count": null,
      "outputs": []
    },
    {
      "cell_type": "code",
      "source": [
        "import numpy as np\n",
        "# import os\n",
        "# import glob\n",
        "# import matplotlib.pyplot as plt\n",
        "import tensorflow as tf\n",
        "# from keras.preprocessing.image import ImageDataGenerator\n",
        "# from tensorflow.keras.applications import MobileNetV2\n",
        "# from keras.applications.mobilenet import preprocess_input\n",
        "from keras.layers import AveragePooling2D\n",
        "from keras.layers import Dropout\n",
        "from keras.layers import Flatten\n",
        "from keras.layers import Dense\n",
        "from keras.layers import BatchNormalization\n",
        "from keras.layers import MaxPool2D, Activation\n",
        "# from tensorflow.nn import local_response_normalization\n",
        "from keras.layers import Conv2D\n",
        "# from tensorflow.keras.models import Model\n",
        "from keras.optimizers import Adam\n",
        "# from tensorflow.keras.preprocessing.image import img_to_array\n",
        "# from tensorflow.keras.preprocessing.image import load_img\n",
        "# from tensorflow.keras.utils import to_categorical\n",
        "from keras.callbacks import ModelCheckpoint, EarlyStopping\n",
        "from keras.models import model_from_json, Sequential\n",
        "# from sklearn.preprocessing import LabelEncoder\n",
        "from sklearn.model_selection import train_test_split"
      ],
      "metadata": {
        "id": "vIA2elVwNDqI"
      },
      "execution_count": null,
      "outputs": []
    },
    {
      "cell_type": "code",
      "source": [
        "X = np.load(path + '/X.npy')\n",
        "y = np.load(path + '/y.npy')"
      ],
      "metadata": {
        "id": "4A2j289zNDm4"
      },
      "execution_count": null,
      "outputs": []
    },
    {
      "cell_type": "code",
      "source": [
        "X = X/255.0\n",
        "X = X.reshape(X.shape[0], size[0], size[1], 3)"
      ],
      "metadata": {
        "id": "oNdNu8t4NDjn"
      },
      "execution_count": null,
      "outputs": []
    },
    {
      "cell_type": "code",
      "source": [
        "X.shape"
      ],
      "metadata": {
        "colab": {
          "base_uri": "https://localhost:8080/"
        },
        "id": "u21-P2AvOESP",
        "outputId": "934dcd34-4039-4c4c-ff22-813c381fc2cb"
      },
      "execution_count": null,
      "outputs": [
        {
          "output_type": "execute_result",
          "data": {
            "text/plain": [
              "(2640, 220, 155, 3)"
            ]
          },
          "metadata": {},
          "execution_count": 40
        }
      ]
    },
    {
      "cell_type": "code",
      "source": [
        "y1 = []\n",
        "for i in range(y.shape[0]):\n",
        "  y1.append([ np.argmax(y[i]) ])\n",
        "\n",
        "y = np.array(y1)"
      ],
      "metadata": {
        "id": "l9XNKHc7kQtS"
      },
      "execution_count": null,
      "outputs": []
    },
    {
      "cell_type": "code",
      "source": [
        "(x_train, x_test, y_train, y_test) = train_test_split(X, y, test_size = 0.20, stratify = y, random_state = 24)"
      ],
      "metadata": {
        "id": "ZwVZ9lcDNDgW"
      },
      "execution_count": null,
      "outputs": []
    },
    {
      "cell_type": "code",
      "source": [
        "model = Sequential()"
      ],
      "metadata": {
        "id": "M42iPIclNYWY"
      },
      "execution_count": null,
      "outputs": []
    },
    {
      "cell_type": "code",
      "source": [
        "model.add( Conv2D(filters = 96, kernel_size = 11, input_shape = (size[0], size[1], 3)) )"
      ],
      "metadata": {
        "id": "ut7r4PsXNYS6"
      },
      "execution_count": null,
      "outputs": []
    },
    {
      "cell_type": "code",
      "source": [
        "model.add( BatchNormalization() )\n",
        "model.add(Activation('relu'))"
      ],
      "metadata": {
        "id": "6ZAwFNbyWtSU"
      },
      "execution_count": null,
      "outputs": []
    },
    {
      "cell_type": "code",
      "source": [
        "model.add( MaxPool2D(pool_size = 3, strides = 2) )\n",
        "model.add( Conv2D(filters = 256, kernel_size = 5) )"
      ],
      "metadata": {
        "id": "H4dg9UG4WtNV"
      },
      "execution_count": null,
      "outputs": []
    },
    {
      "cell_type": "code",
      "source": [
        "model.add( BatchNormalization() )\n",
        "model.add(Activation('relu'))"
      ],
      "metadata": {
        "id": "ZqCnv9grW23t"
      },
      "execution_count": null,
      "outputs": []
    },
    {
      "cell_type": "code",
      "source": [
        "model.add( MaxPool2D(pool_size = 3, strides = 2) )\n",
        "model.add( Dropout(0.3) )\n",
        "model.add( Conv2D(filters = 384, kernel_size = 3, activation = 'relu') )\n",
        "model.add( Conv2D(filters = 256, kernel_size = 3, activation = 'relu') )\n",
        "model.add( MaxPool2D(pool_size = 3, strides = 2) )\n",
        "model.add( Dropout(0.3) )\n",
        "\n",
        "model.add(Flatten())\n",
        "\n",
        "model.add( Dense(units = 1024, activation = 'relu') )\n",
        "model.add( Dropout(0.3) )\n",
        "model.add( Dense(units = 1, activation = 'sigmoid') )"
      ],
      "metadata": {
        "id": "0Maj7s_-W3vV"
      },
      "execution_count": null,
      "outputs": []
    },
    {
      "cell_type": "code",
      "source": [
        "# optimiz = Adam(learning_rate = 0.0001, weight_decay = 0.0005, epsilon = 1e-08, use_ema = True, ema_momentum = 0.9,\n",
        "              #  clipnorm = None, clipvalue = None, global_clipnorm = None)\n",
        "\n",
        "optimiz = Adam(lr = 0.0001, beta_1 = 0.9, epsilon = 1e-08, decay = 0.0005)"
      ],
      "metadata": {
        "colab": {
          "base_uri": "https://localhost:8080/"
        },
        "id": "areC5A19NYPX",
        "outputId": "68a06a52-e93c-4cb8-b3d7-1f2bdf331258"
      },
      "execution_count": null,
      "outputs": [
        {
          "output_type": "stream",
          "name": "stderr",
          "text": [
            "/usr/local/lib/python3.8/dist-packages/keras/optimizers/optimizer_v2/adam.py:110: UserWarning: The `lr` argument is deprecated, use `learning_rate` instead.\n",
            "  super(Adam, self).__init__(name, **kwargs)\n"
          ]
        }
      ]
    },
    {
      "cell_type": "code",
      "source": [
        "model.compile(optimizer = optimiz, loss = 'binary_crossentropy', metrics = ['accuracy'])"
      ],
      "metadata": {
        "id": "Rg2LaFYzNYL3"
      },
      "execution_count": null,
      "outputs": []
    },
    {
      "cell_type": "code",
      "source": [
        "modelp_es = EarlyStopping(monitor = 'val_loss', patience = 5, verbose = 0)\n",
        "modelp_checkpointer = ModelCheckpoint(filepath = path + \"/CEDAR_signatures_siamese_1.h5\", verbose = 1, save_weights_only = True)"
      ],
      "metadata": {
        "id": "8pM31VD1NYJI"
      },
      "execution_count": null,
      "outputs": []
    },
    {
      "cell_type": "code",
      "source": [
        "model.fit(x_train, y_train, epochs = EPOCHS, batch_size = BS, validation_data = (x_test, y_test), callbacks = [modelp_es, modelp_checkpointer])"
      ],
      "metadata": {
        "colab": {
          "base_uri": "https://localhost:8080/"
        },
        "id": "EOVwzSzJNDdX",
        "outputId": "5371b12f-350e-4a77-d6b6-c80beecb2c7e"
      },
      "execution_count": null,
      "outputs": [
        {
          "output_type": "stream",
          "name": "stdout",
          "text": [
            "Epoch 1/20\n",
            "132/132 [==============================] - ETA: 0s - loss: 0.7221 - accuracy: 0.6586\n",
            "Epoch 1: saving model to /content/drive/MyDrive/CEDAR/preprocessed_signatures/CEDAR_signatures_siamese_1.h5\n",
            "132/132 [==============================] - 42s 295ms/step - loss: 0.7221 - accuracy: 0.6586 - val_loss: 0.6931 - val_accuracy: 0.5000\n",
            "Epoch 2/20\n",
            "132/132 [==============================] - ETA: 0s - loss: 0.4548 - accuracy: 0.7983\n",
            "Epoch 2: saving model to /content/drive/MyDrive/CEDAR/preprocessed_signatures/CEDAR_signatures_siamese_1.h5\n",
            "132/132 [==============================] - 24s 181ms/step - loss: 0.4548 - accuracy: 0.7983 - val_loss: 0.6912 - val_accuracy: 0.5000\n",
            "Epoch 3/20\n",
            "132/132 [==============================] - ETA: 0s - loss: 0.3782 - accuracy: 0.8277\n",
            "Epoch 3: saving model to /content/drive/MyDrive/CEDAR/preprocessed_signatures/CEDAR_signatures_siamese_1.h5\n",
            "132/132 [==============================] - 23s 174ms/step - loss: 0.3782 - accuracy: 0.8277 - val_loss: 0.6807 - val_accuracy: 0.5019\n",
            "Epoch 4/20\n",
            "132/132 [==============================] - ETA: 0s - loss: 0.2990 - accuracy: 0.8726\n",
            "Epoch 4: saving model to /content/drive/MyDrive/CEDAR/preprocessed_signatures/CEDAR_signatures_siamese_1.h5\n",
            "132/132 [==============================] - 23s 171ms/step - loss: 0.2990 - accuracy: 0.8726 - val_loss: 0.5471 - val_accuracy: 0.7424\n",
            "Epoch 5/20\n",
            "132/132 [==============================] - ETA: 0s - loss: 0.2115 - accuracy: 0.9143\n",
            "Epoch 5: saving model to /content/drive/MyDrive/CEDAR/preprocessed_signatures/CEDAR_signatures_siamese_1.h5\n",
            "132/132 [==============================] - 23s 175ms/step - loss: 0.2115 - accuracy: 0.9143 - val_loss: 0.3922 - val_accuracy: 0.8258\n",
            "Epoch 6/20\n",
            "132/132 [==============================] - ETA: 0s - loss: 0.1596 - accuracy: 0.9427\n",
            "Epoch 6: saving model to /content/drive/MyDrive/CEDAR/preprocessed_signatures/CEDAR_signatures_siamese_1.h5\n",
            "132/132 [==============================] - 23s 173ms/step - loss: 0.1596 - accuracy: 0.9427 - val_loss: 0.3432 - val_accuracy: 0.8542\n",
            "Epoch 7/20\n",
            "132/132 [==============================] - ETA: 0s - loss: 0.0990 - accuracy: 0.9616\n",
            "Epoch 7: saving model to /content/drive/MyDrive/CEDAR/preprocessed_signatures/CEDAR_signatures_siamese_1.h5\n",
            "132/132 [==============================] - 23s 177ms/step - loss: 0.0990 - accuracy: 0.9616 - val_loss: 0.4400 - val_accuracy: 0.8617\n",
            "Epoch 8/20\n",
            "132/132 [==============================] - ETA: 0s - loss: 0.0677 - accuracy: 0.9744\n",
            "Epoch 8: saving model to /content/drive/MyDrive/CEDAR/preprocessed_signatures/CEDAR_signatures_siamese_1.h5\n",
            "132/132 [==============================] - 23s 174ms/step - loss: 0.0677 - accuracy: 0.9744 - val_loss: 0.5355 - val_accuracy: 0.8258\n",
            "Epoch 9/20\n",
            "132/132 [==============================] - ETA: 0s - loss: 0.0585 - accuracy: 0.9792\n",
            "Epoch 9: saving model to /content/drive/MyDrive/CEDAR/preprocessed_signatures/CEDAR_signatures_siamese_1.h5\n",
            "132/132 [==============================] - 23s 173ms/step - loss: 0.0585 - accuracy: 0.9792 - val_loss: 0.4376 - val_accuracy: 0.8561\n",
            "Epoch 10/20\n",
            "132/132 [==============================] - ETA: 0s - loss: 0.0285 - accuracy: 0.9934\n",
            "Epoch 10: saving model to /content/drive/MyDrive/CEDAR/preprocessed_signatures/CEDAR_signatures_siamese_1.h5\n",
            "132/132 [==============================] - 24s 182ms/step - loss: 0.0285 - accuracy: 0.9934 - val_loss: 0.4795 - val_accuracy: 0.8731\n",
            "Epoch 11/20\n",
            "132/132 [==============================] - ETA: 0s - loss: 0.0133 - accuracy: 0.9972\n",
            "Epoch 11: saving model to /content/drive/MyDrive/CEDAR/preprocessed_signatures/CEDAR_signatures_siamese_1.h5\n",
            "132/132 [==============================] - 23s 175ms/step - loss: 0.0133 - accuracy: 0.9972 - val_loss: 0.5237 - val_accuracy: 0.8902\n"
          ]
        },
        {
          "output_type": "execute_result",
          "data": {
            "text/plain": [
              "<keras.callbacks.History at 0x7f4d7c4d07c0>"
            ]
          },
          "metadata": {},
          "execution_count": 52
        }
      ]
    },
    {
      "cell_type": "code",
      "source": [
        "model.save(path + '/final_model_siamese.h5')"
      ],
      "metadata": {
        "id": "Th1K1A03NDaY"
      },
      "execution_count": null,
      "outputs": []
    },
    {
      "cell_type": "code",
      "source": [
        "eval_result = model.evaluate(x_test, y_test)\n",
        "print(\"[test loss, test accuracy]:\", eval_result)"
      ],
      "metadata": {
        "colab": {
          "base_uri": "https://localhost:8080/"
        },
        "id": "EgCYyUTpWPLX",
        "outputId": "55e240d3-f139-4e88-f736-50318e787ea7"
      },
      "execution_count": null,
      "outputs": [
        {
          "output_type": "stream",
          "name": "stdout",
          "text": [
            "17/17 [==============================] - 3s 73ms/step - loss: 0.5237 - accuracy: 0.8902\n",
            "[test loss, test accuracy]: [0.5236613750457764, 0.8901515007019043]\n"
          ]
        }
      ]
    },
    {
      "cell_type": "code",
      "source": [],
      "metadata": {
        "id": "IbVdvTxPWOoy"
      },
      "execution_count": null,
      "outputs": []
    }
  ]
}