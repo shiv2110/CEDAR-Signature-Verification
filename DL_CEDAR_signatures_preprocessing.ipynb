{
  "nbformat": 4,
  "nbformat_minor": 0,
  "metadata": {
    "colab": {
      "provenance": [],
      "toc_visible": true
    },
    "kernelspec": {
      "name": "python3",
      "display_name": "Python 3"
    },
    "language_info": {
      "name": "python"
    }
  },
  "cells": [
    {
      "cell_type": "code",
      "execution_count": null,
      "metadata": {
        "id": "FMdIZVBBOEX1",
        "colab": {
          "base_uri": "https://localhost:8080/"
        },
        "outputId": "04715510-6808-465c-c769-01e7bea73273"
      },
      "outputs": [
        {
          "output_type": "stream",
          "name": "stdout",
          "text": [
            "Mounted at /content/drive\n"
          ]
        }
      ],
      "source": [
        "from google.colab import drive\n",
        "drive.mount('/content/drive', force_remount = True)"
      ]
    },
    {
      "cell_type": "code",
      "source": [
        "# import tensorflow as tf\n",
        "# from keras.preprocessing.image import ImageDataGenerator"
      ],
      "metadata": {
        "id": "Rklc7FCAKuaj"
      },
      "execution_count": null,
      "outputs": []
    },
    {
      "cell_type": "code",
      "source": [
        "!ls \"/content/drive/MyDrive/CEDAR/preprocessed_signatures/full_org\" | wc -l"
      ],
      "metadata": {
        "colab": {
          "base_uri": "https://localhost:8080/"
        },
        "id": "d66WMmu5iC6w",
        "outputId": "370d2649-9b53-4a28-af32-3c0c9a15aa48"
      },
      "execution_count": null,
      "outputs": [
        {
          "output_type": "stream",
          "name": "stdout",
          "text": [
            "1320\n"
          ]
        }
      ]
    },
    {
      "cell_type": "code",
      "source": [
        "import cv2\n",
        "import shutil\n",
        "import os"
      ],
      "metadata": {
        "id": "J3OHl2tuLNMA"
      },
      "execution_count": null,
      "outputs": []
    },
    {
      "cell_type": "code",
      "source": [
        "org = '/content/drive/MyDrive/CEDAR/signatures/full_org/'\n",
        "org_p = '/content/drive/MyDrive/CEDAR/preprocessed_signatures/full_org/'\n",
        "\n",
        "count = 0\n",
        "\n",
        "for f in os.listdir(org):\n",
        "  img = cv2.imread(org + f)\n",
        "  gray = cv2.cvtColor(img, cv2.COLOR_BGR2GRAY)\n",
        "  img1 = cv2.resize(gray, (220, 155), interpolation = cv2.INTER_LINEAR)\n",
        "  _, thresh = cv2.threshold(img1, 220, 255, 0)\n",
        "  cv2.imwrite(org_p + f, thresh)\n",
        "  count += 1\n",
        "  print(count)"
      ],
      "metadata": {
        "id": "mUC7ZcrNU6ex"
      },
      "execution_count": null,
      "outputs": []
    },
    {
      "cell_type": "code",
      "source": [
        "forg = '/content/drive/MyDrive/CEDAR/signatures/full_forg/'\n",
        "forg_p = '/content/drive/MyDrive/CEDAR/preprocessed_signatures/full_forg/'\n",
        "\n",
        "count = 0\n",
        "\n",
        "for f in os.listdir(forg):\n",
        "  img = cv2.imread(forg + f)\n",
        "  gray = cv2.cvtColor(img, cv2.COLOR_BGR2GRAY)\n",
        "  img1 = cv2.resize(gray, (220, 155), interpolation = cv2.INTER_LINEAR)\n",
        "  _, thresh = cv2.threshold(img1, 220, 255, 0)\n",
        "  cv2.imwrite(forg_p + f, thresh)\n",
        "  count += 1\n",
        "  print(count)"
      ],
      "metadata": {
        "id": "ei8uqzuOXNUS"
      },
      "execution_count": null,
      "outputs": []
    },
    {
      "cell_type": "code",
      "source": [
        "img = cv2.imread('/content/drive/MyDrive/CEDAR/signatures/full_forg/forgeries_1_1.png')"
      ],
      "metadata": {
        "id": "pTQnG7A6M6vy"
      },
      "execution_count": null,
      "outputs": []
    },
    {
      "cell_type": "code",
      "source": [
        "img.shape"
      ],
      "metadata": {
        "colab": {
          "base_uri": "https://localhost:8080/"
        },
        "id": "sl7TatdZPXXf",
        "outputId": "b6497dc7-42f8-4382-eb1a-7636ba5f43e3"
      },
      "execution_count": null,
      "outputs": [
        {
          "output_type": "execute_result",
          "data": {
            "text/plain": [
              "(438, 588, 3)"
            ]
          },
          "metadata": {},
          "execution_count": 8
        }
      ]
    },
    {
      "cell_type": "code",
      "source": [
        "import matplotlib.pyplot as plt"
      ],
      "metadata": {
        "id": "hNPy6YCqQKFq"
      },
      "execution_count": null,
      "outputs": []
    },
    {
      "cell_type": "code",
      "source": [
        "gray = cv2.cvtColor(img, cv2.COLOR_BGR2GRAY)\n",
        "\n",
        "# apply thresholding to convert grayscale to binary image\n",
        "ret, thresh = cv2.threshold(gray, 220, 255, 0)\n"
      ],
      "metadata": {
        "id": "19TGiRfcPZQ4"
      },
      "execution_count": null,
      "outputs": []
    },
    {
      "cell_type": "code",
      "source": [
        "plt.imshow(gray, cmap = 'gray'),plt.title('Original Image'), plt.axis('off')\n",
        "plt.show()"
      ],
      "metadata": {
        "colab": {
          "base_uri": "https://localhost:8080/",
          "height": 264
        },
        "id": "47h6lAv6QyS3",
        "outputId": "b0efdc15-3ba2-4270-a689-31012208987a"
      },
      "execution_count": null,
      "outputs": [
        {
          "output_type": "display_data",
          "data": {
            "text/plain": [
              "<Figure size 432x288 with 1 Axes>"
            ],
            "image/png": "[encoded data removed]"
          },
          "metadata": {
            "needs_background": "light"
          }
        }
      ]
    },
    {
      "cell_type": "code",
      "source": [
        "plt.imshow(thresh,cmap = 'gray'),plt.title('Grayscale Image'),plt.axis('off')\n",
        "plt.show()"
      ],
      "metadata": {
        "colab": {
          "base_uri": "https://localhost:8080/",
          "height": 264
        },
        "id": "7OUdCBlVP9nw",
        "outputId": "69668f31-624b-4aa0-8028-e729fec79895"
      },
      "execution_count": null,
      "outputs": [
        {
          "output_type": "display_data",
          "data": {
            "text/plain": [
              "<Figure size 432x288 with 1 Axes>"
            ],
            "image/png": "[encoded data removed]"
          },
          "metadata": {
            "needs_background": "light"
          }
        }
      ]
    },
    {
      "cell_type": "code",
      "source": [
        "stretch_near = cv2.resize(thresh, (224, 224),\n",
        "               interpolation = cv2.INTER_LINEAR)"
      ],
      "metadata": {
        "id": "RvFnTFslQbpa"
      },
      "execution_count": null,
      "outputs": []
    },
    {
      "cell_type": "code",
      "source": [
        "plt.imshow(stretch_near,cmap = 'gray'),plt.title('Grayscale Image'),plt.axis('off')\n",
        "plt.show()"
      ],
      "metadata": {
        "colab": {
          "base_uri": "https://localhost:8080/",
          "height": 264
        },
        "id": "KR7vPWY_R9hz",
        "outputId": "45247ab9-931b-4f6d-fa26-853b40bf1db9"
      },
      "execution_count": null,
      "outputs": [
        {
          "output_type": "display_data",
          "data": {
            "text/plain": [
              "<Figure size 432x288 with 1 Axes>"
            ],
            "image/png": "[encoded data removed]"
          },
          "metadata": {
            "needs_background": "light"
          }
        }
      ]
    },
    {
      "cell_type": "code",
      "source": [],
      "metadata": {
        "id": "WsbQsYWtSAwf"
      },
      "execution_count": null,
      "outputs": []
    }
  ]
}