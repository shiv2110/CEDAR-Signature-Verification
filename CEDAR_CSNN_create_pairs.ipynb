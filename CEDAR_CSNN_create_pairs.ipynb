{
  "nbformat": 4,
  "nbformat_minor": 0,
  "metadata": {
    "colab": {
      "provenance": [],
      "toc_visible": true
    },
    "kernelspec": {
      "name": "python3",
      "display_name": "Python 3"
    },
    "language_info": {
      "name": "python"
    }
  },
  "cells": [
    {
      "cell_type": "code",
      "source": [
        "from google.colab import drive\n",
        "drive.mount('/content/drive')"
      ],
      "metadata": {
        "colab": {
          "base_uri": "https://localhost:8080/"
        },
        "id": "Ssq_bjCFfUzn",
        "outputId": "6afef34a-1cca-41df-a2b7-77306b9ec2e1"
      },
      "execution_count": null,
      "outputs": [
        {
          "output_type": "stream",
          "name": "stdout",
          "text": [
            "Mounted at /content/drive\n"
          ]
        }
      ]
    },
    {
      "cell_type": "code",
      "source": [
        "path = '/content/drive/MyDrive/CEDAR/preprocessed_signatures'"
      ],
      "metadata": {
        "id": "XCDSJZNQfZXR"
      },
      "execution_count": null,
      "outputs": []
    },
    {
      "cell_type": "code",
      "source": [
        "n_individuals = 55\n",
        "n_signatures_per_individual = 24"
      ],
      "metadata": {
        "id": "GFDTu4-zMYei"
      },
      "execution_count": null,
      "outputs": []
    },
    {
      "cell_type": "code",
      "source": [
        "import cv2\n",
        "import os\n",
        "import matplotlib.pyplot as plt\n",
        "import numpy as np\n",
        "import random"
      ],
      "metadata": {
        "id": "VMAJr9-CABeX"
      },
      "execution_count": null,
      "outputs": []
    },
    {
      "cell_type": "code",
      "execution_count": null,
      "metadata": {
        "id": "9jHqyMYle_Ki"
      },
      "outputs": [],
      "source": [
        "original = os.listdir(path + \"/full_org\")\n",
        "original.sort()\n",
        "forged = os.listdir(path + \"/full_forg\")\n",
        "forged.sort()"
      ]
    },
    {
      "cell_type": "code",
      "source": [
        "def to_gray (filename):\n",
        "  test = cv2.imread(path + \"/\" + filename)\n",
        "  test = cv2.cvtColor(test, cv2.COLOR_BGR2GRAY)\n",
        "  return test"
      ],
      "metadata": {
        "id": "WHmDRSU1L-NX"
      },
      "execution_count": null,
      "outputs": []
    },
    {
      "cell_type": "code",
      "source": [
        "orig_orig = [np.zeros((2, 155, 220)) for i in range( (n_individuals * n_signatures_per_individual * (n_signatures_per_individual - 1) ) // 2)]\n",
        "orig_orig = np.array(orig_orig)"
      ],
      "metadata": {
        "id": "PBC34aMnohNV"
      },
      "execution_count": null,
      "outputs": []
    },
    {
      "cell_type": "code",
      "source": [
        "## for creating original-original pairs\n",
        "\n",
        "orig_orig = []\n",
        "\n",
        "k = n_signatures_per_individual - 1\n",
        "l = 0\n",
        "\n",
        "for i in range(len(original)):\n",
        "  if i % n_signatures_per_individual == 0:\n",
        "    k = n_signatures_per_individual - 1\n",
        "    print(i)\n",
        "  for j in range(i + 1, i + 1 + k):\n",
        "    orig_orig[l][0] = to_gray('full_org/' + original[i])\n",
        "    orig_orig[l][1] = to_gray('full_org/' + original[j])\n",
        "    l += 1\n",
        "  k -= 1\n"
      ],
      "metadata": {
        "id": "gyYrVw1WfF8Y"
      },
      "execution_count": null,
      "outputs": []
    },
    {
      "cell_type": "code",
      "source": [
        "orig_orig = np.array(orig_orig)\n",
        "np.save(path + '/orig_orig.npy', orig_orig)"
      ],
      "metadata": {
        "id": "_NYSyRqQfJdL"
      },
      "execution_count": null,
      "outputs": []
    },
    {
      "cell_type": "code",
      "source": [
        "orig_forg = [np.zeros((2, 155, 220)) for i in range(len(original) * 12)]\n",
        "orig_forg = np.array(orig_forg)"
      ],
      "metadata": {
        "id": "Wq-0OP3yfJZp"
      },
      "execution_count": null,
      "outputs": []
    },
    {
      "cell_type": "code",
      "source": [
        "# for creating original-forged pairs\n",
        "\n",
        "k = -1 * n_signatures_per_individual\n",
        "l = 0\n",
        "\n",
        "for i in range(len(original)):\n",
        "  forg_map = []\n",
        "  if i % n_signatures_per_individual == 0:\n",
        "    k += n_signatures_per_individual\n",
        "    print(k)\n",
        "  while True:\n",
        "    r = random.randint(k, k + n_signatures_per_individual - 1)\n",
        "    if r not in forg_map:\n",
        "      forg_map.append(r)\n",
        "    if len(forg_map) == 12:\n",
        "      break\n",
        "  for j in forg_map:\n",
        "    orig_forg[l][0] = to_gray('full_org/' + original[i])\n",
        "    orig_forg[l][1] = to_gray('full_forg/' + forged[j])\n",
        "    l += 1\n"
      ],
      "metadata": {
        "id": "wUQuhXayfJWa"
      },
      "execution_count": null,
      "outputs": []
    },
    {
      "cell_type": "code",
      "source": [
        "np.save(path + '/orig_forg.npy', orig_forg)"
      ],
      "metadata": {
        "id": "qZrEpFVFfJTa"
      },
      "execution_count": null,
      "outputs": []
    }
  ]
}